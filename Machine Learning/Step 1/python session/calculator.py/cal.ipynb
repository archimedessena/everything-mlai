def calculate():
    num = float(input())
    op = input()
    num1 = float(input())
    if op == "*":
        result = num * num1
        return result
    elif op == "+":
        result = num + num1
        return result
    elif op == "/":
        result = num / num1
        return result
    elif op == "-":
        result = num - num1
        return result
    else:
        print("Syntax error")


cal = calculate()
print(cal)

    