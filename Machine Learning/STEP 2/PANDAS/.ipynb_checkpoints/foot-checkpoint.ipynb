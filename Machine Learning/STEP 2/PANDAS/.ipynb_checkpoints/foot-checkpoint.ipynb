{
 "cells": [
  {
   "cell_type": "code",
   "execution_count": 1,
   "metadata": {},
   "outputs": [],
   "source": [
    "import pandas as pd"
   ]
  },
  {
   "cell_type": "code",
   "execution_count": 2,
   "metadata": {},
   "outputs": [],
   "source": [
    "football = pd.read_csv('data/understat.com.csv')\n"
   ]
  },
  {
   "cell_type": "code",
   "execution_count": 3,
   "metadata": {},
   "outputs": [
    {
     "data": {
      "text/html": [
       "<div>\n",
       "<style scoped>\n",
       "    .dataframe tbody tr th:only-of-type {\n",
       "        vertical-align: middle;\n",
       "    }\n",
       "\n",
       "    .dataframe tbody tr th {\n",
       "        vertical-align: top;\n",
       "    }\n",
       "\n",
       "    .dataframe thead th {\n",
       "        text-align: right;\n",
       "    }\n",
       "</style>\n",
       "<table border=\"1\" class=\"dataframe\">\n",
       "  <thead>\n",
       "    <tr style=\"text-align: right;\">\n",
       "      <th></th>\n",
       "      <th>Unnamed: 0</th>\n",
       "      <th>Unnamed: 1</th>\n",
       "      <th>position</th>\n",
       "      <th>team</th>\n",
       "      <th>matches</th>\n",
       "      <th>wins</th>\n",
       "      <th>draws</th>\n",
       "      <th>loses</th>\n",
       "      <th>scored</th>\n",
       "      <th>missed</th>\n",
       "      <th>...</th>\n",
       "      <th>xGA</th>\n",
       "      <th>xGA_diff</th>\n",
       "      <th>npxGA</th>\n",
       "      <th>npxGD</th>\n",
       "      <th>ppda_coef</th>\n",
       "      <th>oppda_coef</th>\n",
       "      <th>deep</th>\n",
       "      <th>deep_allowed</th>\n",
       "      <th>xpts</th>\n",
       "      <th>xpts_diff</th>\n",
       "    </tr>\n",
       "  </thead>\n",
       "  <tbody>\n",
       "    <tr>\n",
       "      <th>0</th>\n",
       "      <td>La_liga</td>\n",
       "      <td>2014</td>\n",
       "      <td>1</td>\n",
       "      <td>Barcelona</td>\n",
       "      <td>38</td>\n",
       "      <td>30</td>\n",
       "      <td>4</td>\n",
       "      <td>4</td>\n",
       "      <td>110</td>\n",
       "      <td>21</td>\n",
       "      <td>...</td>\n",
       "      <td>28.444293</td>\n",
       "      <td>7.444293</td>\n",
       "      <td>24.727907</td>\n",
       "      <td>73.049305</td>\n",
       "      <td>5.683535</td>\n",
       "      <td>16.367593</td>\n",
       "      <td>489</td>\n",
       "      <td>114</td>\n",
       "      <td>94.0813</td>\n",
       "      <td>0.0813</td>\n",
       "    </tr>\n",
       "    <tr>\n",
       "      <th>1</th>\n",
       "      <td>La_liga</td>\n",
       "      <td>2014</td>\n",
       "      <td>2</td>\n",
       "      <td>Real Madrid</td>\n",
       "      <td>38</td>\n",
       "      <td>30</td>\n",
       "      <td>2</td>\n",
       "      <td>6</td>\n",
       "      <td>118</td>\n",
       "      <td>38</td>\n",
       "      <td>...</td>\n",
       "      <td>42.607198</td>\n",
       "      <td>4.607198</td>\n",
       "      <td>38.890805</td>\n",
       "      <td>47.213090</td>\n",
       "      <td>10.209085</td>\n",
       "      <td>12.929510</td>\n",
       "      <td>351</td>\n",
       "      <td>153</td>\n",
       "      <td>81.7489</td>\n",
       "      <td>-10.2511</td>\n",
       "    </tr>\n",
       "    <tr>\n",
       "      <th>2</th>\n",
       "      <td>La_liga</td>\n",
       "      <td>2014</td>\n",
       "      <td>3</td>\n",
       "      <td>Atletico Madrid</td>\n",
       "      <td>38</td>\n",
       "      <td>23</td>\n",
       "      <td>9</td>\n",
       "      <td>6</td>\n",
       "      <td>67</td>\n",
       "      <td>29</td>\n",
       "      <td>...</td>\n",
       "      <td>29.069107</td>\n",
       "      <td>0.069107</td>\n",
       "      <td>26.839271</td>\n",
       "      <td>25.748737</td>\n",
       "      <td>8.982028</td>\n",
       "      <td>9.237091</td>\n",
       "      <td>197</td>\n",
       "      <td>123</td>\n",
       "      <td>73.1353</td>\n",
       "      <td>-4.8647</td>\n",
       "    </tr>\n",
       "    <tr>\n",
       "      <th>3</th>\n",
       "      <td>La_liga</td>\n",
       "      <td>2014</td>\n",
       "      <td>4</td>\n",
       "      <td>Valencia</td>\n",
       "      <td>38</td>\n",
       "      <td>22</td>\n",
       "      <td>11</td>\n",
       "      <td>5</td>\n",
       "      <td>70</td>\n",
       "      <td>32</td>\n",
       "      <td>...</td>\n",
       "      <td>39.392572</td>\n",
       "      <td>7.392572</td>\n",
       "      <td>33.446477</td>\n",
       "      <td>16.257501</td>\n",
       "      <td>8.709827</td>\n",
       "      <td>7.870225</td>\n",
       "      <td>203</td>\n",
       "      <td>172</td>\n",
       "      <td>63.7068</td>\n",
       "      <td>-13.2932</td>\n",
       "    </tr>\n",
       "    <tr>\n",
       "      <th>4</th>\n",
       "      <td>La_liga</td>\n",
       "      <td>2014</td>\n",
       "      <td>5</td>\n",
       "      <td>Sevilla</td>\n",
       "      <td>38</td>\n",
       "      <td>23</td>\n",
       "      <td>7</td>\n",
       "      <td>8</td>\n",
       "      <td>71</td>\n",
       "      <td>45</td>\n",
       "      <td>...</td>\n",
       "      <td>47.862742</td>\n",
       "      <td>2.862742</td>\n",
       "      <td>41.916529</td>\n",
       "      <td>20.178070</td>\n",
       "      <td>8.276148</td>\n",
       "      <td>9.477805</td>\n",
       "      <td>305</td>\n",
       "      <td>168</td>\n",
       "      <td>67.3867</td>\n",
       "      <td>-8.6133</td>\n",
       "    </tr>\n",
       "    <tr>\n",
       "      <th>...</th>\n",
       "      <td>...</td>\n",
       "      <td>...</td>\n",
       "      <td>...</td>\n",
       "      <td>...</td>\n",
       "      <td>...</td>\n",
       "      <td>...</td>\n",
       "      <td>...</td>\n",
       "      <td>...</td>\n",
       "      <td>...</td>\n",
       "      <td>...</td>\n",
       "      <td>...</td>\n",
       "      <td>...</td>\n",
       "      <td>...</td>\n",
       "      <td>...</td>\n",
       "      <td>...</td>\n",
       "      <td>...</td>\n",
       "      <td>...</td>\n",
       "      <td>...</td>\n",
       "      <td>...</td>\n",
       "      <td>...</td>\n",
       "      <td>...</td>\n",
       "    </tr>\n",
       "    <tr>\n",
       "      <th>679</th>\n",
       "      <td>RFPL</td>\n",
       "      <td>2019</td>\n",
       "      <td>12</td>\n",
       "      <td>PFC Sochi</td>\n",
       "      <td>30</td>\n",
       "      <td>8</td>\n",
       "      <td>9</td>\n",
       "      <td>13</td>\n",
       "      <td>40</td>\n",
       "      <td>39</td>\n",
       "      <td>...</td>\n",
       "      <td>38.850259</td>\n",
       "      <td>-0.149741</td>\n",
       "      <td>32.780898</td>\n",
       "      <td>-0.096048</td>\n",
       "      <td>12.838079</td>\n",
       "      <td>10.562327</td>\n",
       "      <td>175</td>\n",
       "      <td>206</td>\n",
       "      <td>38.6587</td>\n",
       "      <td>5.6587</td>\n",
       "    </tr>\n",
       "    <tr>\n",
       "      <th>680</th>\n",
       "      <td>RFPL</td>\n",
       "      <td>2019</td>\n",
       "      <td>13</td>\n",
       "      <td>FK Akhmat</td>\n",
       "      <td>30</td>\n",
       "      <td>7</td>\n",
       "      <td>10</td>\n",
       "      <td>13</td>\n",
       "      <td>27</td>\n",
       "      <td>46</td>\n",
       "      <td>...</td>\n",
       "      <td>40.626196</td>\n",
       "      <td>-5.373804</td>\n",
       "      <td>38.363370</td>\n",
       "      <td>-10.495864</td>\n",
       "      <td>11.199502</td>\n",
       "      <td>10.806357</td>\n",
       "      <td>124</td>\n",
       "      <td>206</td>\n",
       "      <td>36.5424</td>\n",
       "      <td>5.5424</td>\n",
       "    </tr>\n",
       "    <tr>\n",
       "      <th>681</th>\n",
       "      <td>RFPL</td>\n",
       "      <td>2019</td>\n",
       "      <td>14</td>\n",
       "      <td>Krylya Sovetov Samara</td>\n",
       "      <td>30</td>\n",
       "      <td>8</td>\n",
       "      <td>7</td>\n",
       "      <td>15</td>\n",
       "      <td>33</td>\n",
       "      <td>40</td>\n",
       "      <td>...</td>\n",
       "      <td>42.980693</td>\n",
       "      <td>2.980693</td>\n",
       "      <td>37.550114</td>\n",
       "      <td>-7.777201</td>\n",
       "      <td>11.949903</td>\n",
       "      <td>10.080858</td>\n",
       "      <td>103</td>\n",
       "      <td>215</td>\n",
       "      <td>36.3363</td>\n",
       "      <td>5.3363</td>\n",
       "    </tr>\n",
       "    <tr>\n",
       "      <th>682</th>\n",
       "      <td>RFPL</td>\n",
       "      <td>2019</td>\n",
       "      <td>15</td>\n",
       "      <td>FC Tambov</td>\n",
       "      <td>30</td>\n",
       "      <td>9</td>\n",
       "      <td>4</td>\n",
       "      <td>17</td>\n",
       "      <td>37</td>\n",
       "      <td>41</td>\n",
       "      <td>...</td>\n",
       "      <td>39.747938</td>\n",
       "      <td>-1.252062</td>\n",
       "      <td>34.468003</td>\n",
       "      <td>-12.231948</td>\n",
       "      <td>14.666049</td>\n",
       "      <td>9.192768</td>\n",
       "      <td>150</td>\n",
       "      <td>270</td>\n",
       "      <td>29.2413</td>\n",
       "      <td>-1.7587</td>\n",
       "    </tr>\n",
       "    <tr>\n",
       "      <th>683</th>\n",
       "      <td>RFPL</td>\n",
       "      <td>2019</td>\n",
       "      <td>16</td>\n",
       "      <td>FC Orenburg</td>\n",
       "      <td>30</td>\n",
       "      <td>7</td>\n",
       "      <td>6</td>\n",
       "      <td>17</td>\n",
       "      <td>28</td>\n",
       "      <td>52</td>\n",
       "      <td>...</td>\n",
       "      <td>37.169797</td>\n",
       "      <td>-14.830203</td>\n",
       "      <td>32.644130</td>\n",
       "      <td>0.201339</td>\n",
       "      <td>12.830908</td>\n",
       "      <td>9.464581</td>\n",
       "      <td>153</td>\n",
       "      <td>215</td>\n",
       "      <td>39.2364</td>\n",
       "      <td>12.2364</td>\n",
       "    </tr>\n",
       "  </tbody>\n",
       "</table>\n",
       "<p>684 rows × 24 columns</p>\n",
       "</div>"
      ],
      "text/plain": [
       "    Unnamed: 0  Unnamed: 1  position                   team  matches  wins  \\\n",
       "0      La_liga        2014         1              Barcelona       38    30   \n",
       "1      La_liga        2014         2            Real Madrid       38    30   \n",
       "2      La_liga        2014         3        Atletico Madrid       38    23   \n",
       "3      La_liga        2014         4               Valencia       38    22   \n",
       "4      La_liga        2014         5                Sevilla       38    23   \n",
       "..         ...         ...       ...                    ...      ...   ...   \n",
       "679       RFPL        2019        12              PFC Sochi       30     8   \n",
       "680       RFPL        2019        13              FK Akhmat       30     7   \n",
       "681       RFPL        2019        14  Krylya Sovetov Samara       30     8   \n",
       "682       RFPL        2019        15              FC Tambov       30     9   \n",
       "683       RFPL        2019        16            FC Orenburg       30     7   \n",
       "\n",
       "     draws  loses  scored  missed  ...        xGA   xGA_diff      npxGA  \\\n",
       "0        4      4     110      21  ...  28.444293   7.444293  24.727907   \n",
       "1        2      6     118      38  ...  42.607198   4.607198  38.890805   \n",
       "2        9      6      67      29  ...  29.069107   0.069107  26.839271   \n",
       "3       11      5      70      32  ...  39.392572   7.392572  33.446477   \n",
       "4        7      8      71      45  ...  47.862742   2.862742  41.916529   \n",
       "..     ...    ...     ...     ...  ...        ...        ...        ...   \n",
       "679      9     13      40      39  ...  38.850259  -0.149741  32.780898   \n",
       "680     10     13      27      46  ...  40.626196  -5.373804  38.363370   \n",
       "681      7     15      33      40  ...  42.980693   2.980693  37.550114   \n",
       "682      4     17      37      41  ...  39.747938  -1.252062  34.468003   \n",
       "683      6     17      28      52  ...  37.169797 -14.830203  32.644130   \n",
       "\n",
       "         npxGD  ppda_coef  oppda_coef  deep  deep_allowed     xpts  xpts_diff  \n",
       "0    73.049305   5.683535   16.367593   489           114  94.0813     0.0813  \n",
       "1    47.213090  10.209085   12.929510   351           153  81.7489   -10.2511  \n",
       "2    25.748737   8.982028    9.237091   197           123  73.1353    -4.8647  \n",
       "3    16.257501   8.709827    7.870225   203           172  63.7068   -13.2932  \n",
       "4    20.178070   8.276148    9.477805   305           168  67.3867    -8.6133  \n",
       "..         ...        ...         ...   ...           ...      ...        ...  \n",
       "679  -0.096048  12.838079   10.562327   175           206  38.6587     5.6587  \n",
       "680 -10.495864  11.199502   10.806357   124           206  36.5424     5.5424  \n",
       "681  -7.777201  11.949903   10.080858   103           215  36.3363     5.3363  \n",
       "682 -12.231948  14.666049    9.192768   150           270  29.2413    -1.7587  \n",
       "683   0.201339  12.830908    9.464581   153           215  39.2364    12.2364  \n",
       "\n",
       "[684 rows x 24 columns]"
      ]
     },
     "execution_count": 3,
     "metadata": {},
     "output_type": "execute_result"
    }
   ],
   "source": [
    "football"
   ]
  },
  {
   "cell_type": "code",
   "execution_count": 4,
   "metadata": {},
   "outputs": [
    {
     "data": {
      "text/plain": [
       "(684, 24)"
      ]
     },
     "execution_count": 4,
     "metadata": {},
     "output_type": "execute_result"
    }
   ],
   "source": [
    "football.shape"
   ]
  },
  {
   "cell_type": "code",
   "execution_count": 5,
   "metadata": {},
   "outputs": [
    {
     "data": {
      "text/html": [
       "<div>\n",
       "<style scoped>\n",
       "    .dataframe tbody tr th:only-of-type {\n",
       "        vertical-align: middle;\n",
       "    }\n",
       "\n",
       "    .dataframe tbody tr th {\n",
       "        vertical-align: top;\n",
       "    }\n",
       "\n",
       "    .dataframe thead th {\n",
       "        text-align: right;\n",
       "    }\n",
       "</style>\n",
       "<table border=\"1\" class=\"dataframe\">\n",
       "  <thead>\n",
       "    <tr style=\"text-align: right;\">\n",
       "      <th></th>\n",
       "      <th>Unnamed: 0</th>\n",
       "      <th>Unnamed: 1</th>\n",
       "      <th>position</th>\n",
       "      <th>team</th>\n",
       "      <th>matches</th>\n",
       "      <th>wins</th>\n",
       "      <th>draws</th>\n",
       "      <th>loses</th>\n",
       "      <th>scored</th>\n",
       "      <th>missed</th>\n",
       "      <th>...</th>\n",
       "      <th>xGA</th>\n",
       "      <th>xGA_diff</th>\n",
       "      <th>npxGA</th>\n",
       "      <th>npxGD</th>\n",
       "      <th>ppda_coef</th>\n",
       "      <th>oppda_coef</th>\n",
       "      <th>deep</th>\n",
       "      <th>deep_allowed</th>\n",
       "      <th>xpts</th>\n",
       "      <th>xpts_diff</th>\n",
       "    </tr>\n",
       "  </thead>\n",
       "  <tbody>\n",
       "    <tr>\n",
       "      <th>0</th>\n",
       "      <td>La_liga</td>\n",
       "      <td>2014</td>\n",
       "      <td>1</td>\n",
       "      <td>Barcelona</td>\n",
       "      <td>38</td>\n",
       "      <td>30</td>\n",
       "      <td>4</td>\n",
       "      <td>4</td>\n",
       "      <td>110</td>\n",
       "      <td>21</td>\n",
       "      <td>...</td>\n",
       "      <td>28.444293</td>\n",
       "      <td>7.444293</td>\n",
       "      <td>24.727907</td>\n",
       "      <td>73.049305</td>\n",
       "      <td>5.683535</td>\n",
       "      <td>16.367593</td>\n",
       "      <td>489</td>\n",
       "      <td>114</td>\n",
       "      <td>94.0813</td>\n",
       "      <td>0.0813</td>\n",
       "    </tr>\n",
       "    <tr>\n",
       "      <th>1</th>\n",
       "      <td>La_liga</td>\n",
       "      <td>2014</td>\n",
       "      <td>2</td>\n",
       "      <td>Real Madrid</td>\n",
       "      <td>38</td>\n",
       "      <td>30</td>\n",
       "      <td>2</td>\n",
       "      <td>6</td>\n",
       "      <td>118</td>\n",
       "      <td>38</td>\n",
       "      <td>...</td>\n",
       "      <td>42.607198</td>\n",
       "      <td>4.607198</td>\n",
       "      <td>38.890805</td>\n",
       "      <td>47.213090</td>\n",
       "      <td>10.209085</td>\n",
       "      <td>12.929510</td>\n",
       "      <td>351</td>\n",
       "      <td>153</td>\n",
       "      <td>81.7489</td>\n",
       "      <td>-10.2511</td>\n",
       "    </tr>\n",
       "    <tr>\n",
       "      <th>2</th>\n",
       "      <td>La_liga</td>\n",
       "      <td>2014</td>\n",
       "      <td>3</td>\n",
       "      <td>Atletico Madrid</td>\n",
       "      <td>38</td>\n",
       "      <td>23</td>\n",
       "      <td>9</td>\n",
       "      <td>6</td>\n",
       "      <td>67</td>\n",
       "      <td>29</td>\n",
       "      <td>...</td>\n",
       "      <td>29.069107</td>\n",
       "      <td>0.069107</td>\n",
       "      <td>26.839271</td>\n",
       "      <td>25.748737</td>\n",
       "      <td>8.982028</td>\n",
       "      <td>9.237091</td>\n",
       "      <td>197</td>\n",
       "      <td>123</td>\n",
       "      <td>73.1353</td>\n",
       "      <td>-4.8647</td>\n",
       "    </tr>\n",
       "    <tr>\n",
       "      <th>3</th>\n",
       "      <td>La_liga</td>\n",
       "      <td>2014</td>\n",
       "      <td>4</td>\n",
       "      <td>Valencia</td>\n",
       "      <td>38</td>\n",
       "      <td>22</td>\n",
       "      <td>11</td>\n",
       "      <td>5</td>\n",
       "      <td>70</td>\n",
       "      <td>32</td>\n",
       "      <td>...</td>\n",
       "      <td>39.392572</td>\n",
       "      <td>7.392572</td>\n",
       "      <td>33.446477</td>\n",
       "      <td>16.257501</td>\n",
       "      <td>8.709827</td>\n",
       "      <td>7.870225</td>\n",
       "      <td>203</td>\n",
       "      <td>172</td>\n",
       "      <td>63.7068</td>\n",
       "      <td>-13.2932</td>\n",
       "    </tr>\n",
       "    <tr>\n",
       "      <th>4</th>\n",
       "      <td>La_liga</td>\n",
       "      <td>2014</td>\n",
       "      <td>5</td>\n",
       "      <td>Sevilla</td>\n",
       "      <td>38</td>\n",
       "      <td>23</td>\n",
       "      <td>7</td>\n",
       "      <td>8</td>\n",
       "      <td>71</td>\n",
       "      <td>45</td>\n",
       "      <td>...</td>\n",
       "      <td>47.862742</td>\n",
       "      <td>2.862742</td>\n",
       "      <td>41.916529</td>\n",
       "      <td>20.178070</td>\n",
       "      <td>8.276148</td>\n",
       "      <td>9.477805</td>\n",
       "      <td>305</td>\n",
       "      <td>168</td>\n",
       "      <td>67.3867</td>\n",
       "      <td>-8.6133</td>\n",
       "    </tr>\n",
       "    <tr>\n",
       "      <th>5</th>\n",
       "      <td>La_liga</td>\n",
       "      <td>2014</td>\n",
       "      <td>6</td>\n",
       "      <td>Villarreal</td>\n",
       "      <td>38</td>\n",
       "      <td>16</td>\n",
       "      <td>12</td>\n",
       "      <td>10</td>\n",
       "      <td>48</td>\n",
       "      <td>37</td>\n",
       "      <td>...</td>\n",
       "      <td>40.701813</td>\n",
       "      <td>3.701813</td>\n",
       "      <td>38.471977</td>\n",
       "      <td>16.809461</td>\n",
       "      <td>10.072085</td>\n",
       "      <td>8.679660</td>\n",
       "      <td>242</td>\n",
       "      <td>171</td>\n",
       "      <td>62.7363</td>\n",
       "      <td>2.7363</td>\n",
       "    </tr>\n",
       "    <tr>\n",
       "      <th>6</th>\n",
       "      <td>La_liga</td>\n",
       "      <td>2014</td>\n",
       "      <td>7</td>\n",
       "      <td>Athletic Club</td>\n",
       "      <td>38</td>\n",
       "      <td>15</td>\n",
       "      <td>10</td>\n",
       "      <td>13</td>\n",
       "      <td>42</td>\n",
       "      <td>41</td>\n",
       "      <td>...</td>\n",
       "      <td>44.106707</td>\n",
       "      <td>3.106707</td>\n",
       "      <td>41.737161</td>\n",
       "      <td>0.088990</td>\n",
       "      <td>7.462406</td>\n",
       "      <td>9.403965</td>\n",
       "      <td>183</td>\n",
       "      <td>171</td>\n",
       "      <td>53.3585</td>\n",
       "      <td>-1.6415</td>\n",
       "    </tr>\n",
       "    <tr>\n",
       "      <th>7</th>\n",
       "      <td>La_liga</td>\n",
       "      <td>2014</td>\n",
       "      <td>8</td>\n",
       "      <td>Celta Vigo</td>\n",
       "      <td>38</td>\n",
       "      <td>13</td>\n",
       "      <td>12</td>\n",
       "      <td>13</td>\n",
       "      <td>47</td>\n",
       "      <td>44</td>\n",
       "      <td>...</td>\n",
       "      <td>51.777138</td>\n",
       "      <td>7.777138</td>\n",
       "      <td>46.574205</td>\n",
       "      <td>7.853459</td>\n",
       "      <td>6.056173</td>\n",
       "      <td>10.882769</td>\n",
       "      <td>287</td>\n",
       "      <td>207</td>\n",
       "      <td>55.0488</td>\n",
       "      <td>4.0488</td>\n",
       "    </tr>\n",
       "    <tr>\n",
       "      <th>8</th>\n",
       "      <td>La_liga</td>\n",
       "      <td>2014</td>\n",
       "      <td>9</td>\n",
       "      <td>Malaga</td>\n",
       "      <td>38</td>\n",
       "      <td>14</td>\n",
       "      <td>8</td>\n",
       "      <td>16</td>\n",
       "      <td>42</td>\n",
       "      <td>48</td>\n",
       "      <td>...</td>\n",
       "      <td>54.130818</td>\n",
       "      <td>6.130818</td>\n",
       "      <td>49.515437</td>\n",
       "      <td>-8.637099</td>\n",
       "      <td>7.792069</td>\n",
       "      <td>7.019068</td>\n",
       "      <td>184</td>\n",
       "      <td>184</td>\n",
       "      <td>48.5128</td>\n",
       "      <td>-1.4872</td>\n",
       "    </tr>\n",
       "    <tr>\n",
       "      <th>9</th>\n",
       "      <td>La_liga</td>\n",
       "      <td>2014</td>\n",
       "      <td>10</td>\n",
       "      <td>Rayo Vallecano</td>\n",
       "      <td>38</td>\n",
       "      <td>15</td>\n",
       "      <td>4</td>\n",
       "      <td>19</td>\n",
       "      <td>46</td>\n",
       "      <td>68</td>\n",
       "      <td>...</td>\n",
       "      <td>70.433460</td>\n",
       "      <td>2.433460</td>\n",
       "      <td>65.973800</td>\n",
       "      <td>-20.412932</td>\n",
       "      <td>6.157978</td>\n",
       "      <td>9.735109</td>\n",
       "      <td>147</td>\n",
       "      <td>219</td>\n",
       "      <td>43.5455</td>\n",
       "      <td>-5.4545</td>\n",
       "    </tr>\n",
       "    <tr>\n",
       "      <th>10</th>\n",
       "      <td>La_liga</td>\n",
       "      <td>2014</td>\n",
       "      <td>11</td>\n",
       "      <td>Espanyol</td>\n",
       "      <td>38</td>\n",
       "      <td>13</td>\n",
       "      <td>10</td>\n",
       "      <td>15</td>\n",
       "      <td>47</td>\n",
       "      <td>51</td>\n",
       "      <td>...</td>\n",
       "      <td>48.303916</td>\n",
       "      <td>-2.696084</td>\n",
       "      <td>47.560642</td>\n",
       "      <td>-6.554427</td>\n",
       "      <td>9.381754</td>\n",
       "      <td>7.158217</td>\n",
       "      <td>173</td>\n",
       "      <td>205</td>\n",
       "      <td>50.3850</td>\n",
       "      <td>1.3850</td>\n",
       "    </tr>\n",
       "    <tr>\n",
       "      <th>11</th>\n",
       "      <td>La_liga</td>\n",
       "      <td>2014</td>\n",
       "      <td>12</td>\n",
       "      <td>Real Sociedad</td>\n",
       "      <td>38</td>\n",
       "      <td>11</td>\n",
       "      <td>13</td>\n",
       "      <td>14</td>\n",
       "      <td>44</td>\n",
       "      <td>51</td>\n",
       "      <td>...</td>\n",
       "      <td>51.158118</td>\n",
       "      <td>0.158118</td>\n",
       "      <td>46.536026</td>\n",
       "      <td>-15.280658</td>\n",
       "      <td>8.614235</td>\n",
       "      <td>8.829567</td>\n",
       "      <td>146</td>\n",
       "      <td>168</td>\n",
       "      <td>38.7818</td>\n",
       "      <td>-7.2182</td>\n",
       "    </tr>\n",
       "    <tr>\n",
       "      <th>12</th>\n",
       "      <td>La_liga</td>\n",
       "      <td>2014</td>\n",
       "      <td>13</td>\n",
       "      <td>Elche</td>\n",
       "      <td>38</td>\n",
       "      <td>11</td>\n",
       "      <td>8</td>\n",
       "      <td>19</td>\n",
       "      <td>35</td>\n",
       "      <td>62</td>\n",
       "      <td>...</td>\n",
       "      <td>58.071770</td>\n",
       "      <td>-3.928230</td>\n",
       "      <td>51.382272</td>\n",
       "      <td>-17.116632</td>\n",
       "      <td>9.517572</td>\n",
       "      <td>8.623287</td>\n",
       "      <td>107</td>\n",
       "      <td>216</td>\n",
       "      <td>40.6718</td>\n",
       "      <td>-0.3282</td>\n",
       "    </tr>\n",
       "    <tr>\n",
       "      <th>13</th>\n",
       "      <td>La_liga</td>\n",
       "      <td>2014</td>\n",
       "      <td>14</td>\n",
       "      <td>Getafe</td>\n",
       "      <td>38</td>\n",
       "      <td>10</td>\n",
       "      <td>7</td>\n",
       "      <td>21</td>\n",
       "      <td>33</td>\n",
       "      <td>64</td>\n",
       "      <td>...</td>\n",
       "      <td>53.673382</td>\n",
       "      <td>-10.326618</td>\n",
       "      <td>47.728197</td>\n",
       "      <td>-15.246177</td>\n",
       "      <td>10.145486</td>\n",
       "      <td>7.235660</td>\n",
       "      <td>114</td>\n",
       "      <td>221</td>\n",
       "      <td>40.1031</td>\n",
       "      <td>3.1031</td>\n",
       "    </tr>\n",
       "    <tr>\n",
       "      <th>14</th>\n",
       "      <td>La_liga</td>\n",
       "      <td>2014</td>\n",
       "      <td>15</td>\n",
       "      <td>Levante</td>\n",
       "      <td>38</td>\n",
       "      <td>9</td>\n",
       "      <td>10</td>\n",
       "      <td>19</td>\n",
       "      <td>34</td>\n",
       "      <td>67</td>\n",
       "      <td>...</td>\n",
       "      <td>60.270317</td>\n",
       "      <td>-6.729683</td>\n",
       "      <td>54.181697</td>\n",
       "      <td>-21.853093</td>\n",
       "      <td>12.379268</td>\n",
       "      <td>7.501471</td>\n",
       "      <td>97</td>\n",
       "      <td>224</td>\n",
       "      <td>37.6046</td>\n",
       "      <td>0.6046</td>\n",
       "    </tr>\n",
       "    <tr>\n",
       "      <th>15</th>\n",
       "      <td>La_liga</td>\n",
       "      <td>2014</td>\n",
       "      <td>16</td>\n",
       "      <td>Deportivo La Coruna</td>\n",
       "      <td>38</td>\n",
       "      <td>7</td>\n",
       "      <td>14</td>\n",
       "      <td>17</td>\n",
       "      <td>35</td>\n",
       "      <td>60</td>\n",
       "      <td>...</td>\n",
       "      <td>50.979304</td>\n",
       "      <td>-9.020696</td>\n",
       "      <td>46.519761</td>\n",
       "      <td>-14.013874</td>\n",
       "      <td>9.872520</td>\n",
       "      <td>7.921498</td>\n",
       "      <td>133</td>\n",
       "      <td>188</td>\n",
       "      <td>43.5249</td>\n",
       "      <td>8.5249</td>\n",
       "    </tr>\n",
       "    <tr>\n",
       "      <th>16</th>\n",
       "      <td>La_liga</td>\n",
       "      <td>2014</td>\n",
       "      <td>17</td>\n",
       "      <td>Granada</td>\n",
       "      <td>38</td>\n",
       "      <td>7</td>\n",
       "      <td>14</td>\n",
       "      <td>17</td>\n",
       "      <td>29</td>\n",
       "      <td>64</td>\n",
       "      <td>...</td>\n",
       "      <td>54.283784</td>\n",
       "      <td>-9.716216</td>\n",
       "      <td>51.310678</td>\n",
       "      <td>-18.383080</td>\n",
       "      <td>8.924796</td>\n",
       "      <td>7.551742</td>\n",
       "      <td>117</td>\n",
       "      <td>206</td>\n",
       "      <td>45.7345</td>\n",
       "      <td>10.7345</td>\n",
       "    </tr>\n",
       "    <tr>\n",
       "      <th>17</th>\n",
       "      <td>La_liga</td>\n",
       "      <td>2014</td>\n",
       "      <td>18</td>\n",
       "      <td>Eibar</td>\n",
       "      <td>38</td>\n",
       "      <td>9</td>\n",
       "      <td>8</td>\n",
       "      <td>21</td>\n",
       "      <td>34</td>\n",
       "      <td>55</td>\n",
       "      <td>...</td>\n",
       "      <td>53.717962</td>\n",
       "      <td>-1.282038</td>\n",
       "      <td>50.001575</td>\n",
       "      <td>-21.928018</td>\n",
       "      <td>9.636161</td>\n",
       "      <td>8.056608</td>\n",
       "      <td>106</td>\n",
       "      <td>225</td>\n",
       "      <td>35.6537</td>\n",
       "      <td>0.6537</td>\n",
       "    </tr>\n",
       "    <tr>\n",
       "      <th>18</th>\n",
       "      <td>La_liga</td>\n",
       "      <td>2014</td>\n",
       "      <td>19</td>\n",
       "      <td>Almeria</td>\n",
       "      <td>38</td>\n",
       "      <td>8</td>\n",
       "      <td>8</td>\n",
       "      <td>22</td>\n",
       "      <td>35</td>\n",
       "      <td>64</td>\n",
       "      <td>...</td>\n",
       "      <td>58.866805</td>\n",
       "      <td>-5.133195</td>\n",
       "      <td>57.380250</td>\n",
       "      <td>-23.169985</td>\n",
       "      <td>8.761425</td>\n",
       "      <td>6.230164</td>\n",
       "      <td>136</td>\n",
       "      <td>220</td>\n",
       "      <td>39.3255</td>\n",
       "      <td>7.3255</td>\n",
       "    </tr>\n",
       "    <tr>\n",
       "      <th>19</th>\n",
       "      <td>La_liga</td>\n",
       "      <td>2014</td>\n",
       "      <td>20</td>\n",
       "      <td>Cordoba</td>\n",
       "      <td>38</td>\n",
       "      <td>3</td>\n",
       "      <td>11</td>\n",
       "      <td>24</td>\n",
       "      <td>22</td>\n",
       "      <td>68</td>\n",
       "      <td>...</td>\n",
       "      <td>57.339776</td>\n",
       "      <td>-10.660224</td>\n",
       "      <td>52.137326</td>\n",
       "      <td>-24.602640</td>\n",
       "      <td>11.606826</td>\n",
       "      <td>7.530367</td>\n",
       "      <td>91</td>\n",
       "      <td>253</td>\n",
       "      <td>36.2912</td>\n",
       "      <td>16.2912</td>\n",
       "    </tr>\n",
       "  </tbody>\n",
       "</table>\n",
       "<p>20 rows × 24 columns</p>\n",
       "</div>"
      ],
      "text/plain": [
       "   Unnamed: 0  Unnamed: 1  position                 team  matches  wins  \\\n",
       "0     La_liga        2014         1            Barcelona       38    30   \n",
       "1     La_liga        2014         2          Real Madrid       38    30   \n",
       "2     La_liga        2014         3      Atletico Madrid       38    23   \n",
       "3     La_liga        2014         4             Valencia       38    22   \n",
       "4     La_liga        2014         5              Sevilla       38    23   \n",
       "5     La_liga        2014         6           Villarreal       38    16   \n",
       "6     La_liga        2014         7        Athletic Club       38    15   \n",
       "7     La_liga        2014         8           Celta Vigo       38    13   \n",
       "8     La_liga        2014         9               Malaga       38    14   \n",
       "9     La_liga        2014        10       Rayo Vallecano       38    15   \n",
       "10    La_liga        2014        11             Espanyol       38    13   \n",
       "11    La_liga        2014        12        Real Sociedad       38    11   \n",
       "12    La_liga        2014        13                Elche       38    11   \n",
       "13    La_liga        2014        14               Getafe       38    10   \n",
       "14    La_liga        2014        15              Levante       38     9   \n",
       "15    La_liga        2014        16  Deportivo La Coruna       38     7   \n",
       "16    La_liga        2014        17              Granada       38     7   \n",
       "17    La_liga        2014        18                Eibar       38     9   \n",
       "18    La_liga        2014        19              Almeria       38     8   \n",
       "19    La_liga        2014        20              Cordoba       38     3   \n",
       "\n",
       "    draws  loses  scored  missed  ...        xGA   xGA_diff      npxGA  \\\n",
       "0       4      4     110      21  ...  28.444293   7.444293  24.727907   \n",
       "1       2      6     118      38  ...  42.607198   4.607198  38.890805   \n",
       "2       9      6      67      29  ...  29.069107   0.069107  26.839271   \n",
       "3      11      5      70      32  ...  39.392572   7.392572  33.446477   \n",
       "4       7      8      71      45  ...  47.862742   2.862742  41.916529   \n",
       "5      12     10      48      37  ...  40.701813   3.701813  38.471977   \n",
       "6      10     13      42      41  ...  44.106707   3.106707  41.737161   \n",
       "7      12     13      47      44  ...  51.777138   7.777138  46.574205   \n",
       "8       8     16      42      48  ...  54.130818   6.130818  49.515437   \n",
       "9       4     19      46      68  ...  70.433460   2.433460  65.973800   \n",
       "10     10     15      47      51  ...  48.303916  -2.696084  47.560642   \n",
       "11     13     14      44      51  ...  51.158118   0.158118  46.536026   \n",
       "12      8     19      35      62  ...  58.071770  -3.928230  51.382272   \n",
       "13      7     21      33      64  ...  53.673382 -10.326618  47.728197   \n",
       "14     10     19      34      67  ...  60.270317  -6.729683  54.181697   \n",
       "15     14     17      35      60  ...  50.979304  -9.020696  46.519761   \n",
       "16     14     17      29      64  ...  54.283784  -9.716216  51.310678   \n",
       "17      8     21      34      55  ...  53.717962  -1.282038  50.001575   \n",
       "18      8     22      35      64  ...  58.866805  -5.133195  57.380250   \n",
       "19     11     24      22      68  ...  57.339776 -10.660224  52.137326   \n",
       "\n",
       "        npxGD  ppda_coef  oppda_coef  deep  deep_allowed     xpts  xpts_diff  \n",
       "0   73.049305   5.683535   16.367593   489           114  94.0813     0.0813  \n",
       "1   47.213090  10.209085   12.929510   351           153  81.7489   -10.2511  \n",
       "2   25.748737   8.982028    9.237091   197           123  73.1353    -4.8647  \n",
       "3   16.257501   8.709827    7.870225   203           172  63.7068   -13.2932  \n",
       "4   20.178070   8.276148    9.477805   305           168  67.3867    -8.6133  \n",
       "5   16.809461  10.072085    8.679660   242           171  62.7363     2.7363  \n",
       "6    0.088990   7.462406    9.403965   183           171  53.3585    -1.6415  \n",
       "7    7.853459   6.056173   10.882769   287           207  55.0488     4.0488  \n",
       "8   -8.637099   7.792069    7.019068   184           184  48.5128    -1.4872  \n",
       "9  -20.412932   6.157978    9.735109   147           219  43.5455    -5.4545  \n",
       "10  -6.554427   9.381754    7.158217   173           205  50.3850     1.3850  \n",
       "11 -15.280658   8.614235    8.829567   146           168  38.7818    -7.2182  \n",
       "12 -17.116632   9.517572    8.623287   107           216  40.6718    -0.3282  \n",
       "13 -15.246177  10.145486    7.235660   114           221  40.1031     3.1031  \n",
       "14 -21.853093  12.379268    7.501471    97           224  37.6046     0.6046  \n",
       "15 -14.013874   9.872520    7.921498   133           188  43.5249     8.5249  \n",
       "16 -18.383080   8.924796    7.551742   117           206  45.7345    10.7345  \n",
       "17 -21.928018   9.636161    8.056608   106           225  35.6537     0.6537  \n",
       "18 -23.169985   8.761425    6.230164   136           220  39.3255     7.3255  \n",
       "19 -24.602640  11.606826    7.530367    91           253  36.2912    16.2912  \n",
       "\n",
       "[20 rows x 24 columns]"
      ]
     },
     "execution_count": 5,
     "metadata": {},
     "output_type": "execute_result"
    }
   ],
   "source": [
    "football.head(20)"
   ]
  },
  {
   "cell_type": "code",
   "execution_count": 6,
   "metadata": {},
   "outputs": [
    {
     "data": {
      "text/html": [
       "<div>\n",
       "<style scoped>\n",
       "    .dataframe tbody tr th:only-of-type {\n",
       "        vertical-align: middle;\n",
       "    }\n",
       "\n",
       "    .dataframe tbody tr th {\n",
       "        vertical-align: top;\n",
       "    }\n",
       "\n",
       "    .dataframe thead th {\n",
       "        text-align: right;\n",
       "    }\n",
       "</style>\n",
       "<table border=\"1\" class=\"dataframe\">\n",
       "  <thead>\n",
       "    <tr style=\"text-align: right;\">\n",
       "      <th></th>\n",
       "      <th>Unnamed: 0</th>\n",
       "      <th>Unnamed: 1</th>\n",
       "      <th>position</th>\n",
       "      <th>team</th>\n",
       "      <th>matches</th>\n",
       "      <th>wins</th>\n",
       "      <th>draws</th>\n",
       "      <th>loses</th>\n",
       "      <th>scored</th>\n",
       "      <th>missed</th>\n",
       "      <th>...</th>\n",
       "      <th>xGA</th>\n",
       "      <th>xGA_diff</th>\n",
       "      <th>npxGA</th>\n",
       "      <th>npxGD</th>\n",
       "      <th>ppda_coef</th>\n",
       "      <th>oppda_coef</th>\n",
       "      <th>deep</th>\n",
       "      <th>deep_allowed</th>\n",
       "      <th>xpts</th>\n",
       "      <th>xpts_diff</th>\n",
       "    </tr>\n",
       "  </thead>\n",
       "  <tbody>\n",
       "    <tr>\n",
       "      <th>0</th>\n",
       "      <td>La_liga</td>\n",
       "      <td>2014</td>\n",
       "      <td>1</td>\n",
       "      <td>Barcelona</td>\n",
       "      <td>38</td>\n",
       "      <td>30</td>\n",
       "      <td>4</td>\n",
       "      <td>4</td>\n",
       "      <td>110</td>\n",
       "      <td>21</td>\n",
       "      <td>...</td>\n",
       "      <td>28.444293</td>\n",
       "      <td>7.444293</td>\n",
       "      <td>24.727907</td>\n",
       "      <td>73.049305</td>\n",
       "      <td>5.683535</td>\n",
       "      <td>16.367593</td>\n",
       "      <td>489</td>\n",
       "      <td>114</td>\n",
       "      <td>94.0813</td>\n",
       "      <td>0.0813</td>\n",
       "    </tr>\n",
       "    <tr>\n",
       "      <th>1</th>\n",
       "      <td>La_liga</td>\n",
       "      <td>2014</td>\n",
       "      <td>2</td>\n",
       "      <td>Real Madrid</td>\n",
       "      <td>38</td>\n",
       "      <td>30</td>\n",
       "      <td>2</td>\n",
       "      <td>6</td>\n",
       "      <td>118</td>\n",
       "      <td>38</td>\n",
       "      <td>...</td>\n",
       "      <td>42.607198</td>\n",
       "      <td>4.607198</td>\n",
       "      <td>38.890805</td>\n",
       "      <td>47.213090</td>\n",
       "      <td>10.209085</td>\n",
       "      <td>12.929510</td>\n",
       "      <td>351</td>\n",
       "      <td>153</td>\n",
       "      <td>81.7489</td>\n",
       "      <td>-10.2511</td>\n",
       "    </tr>\n",
       "    <tr>\n",
       "      <th>2</th>\n",
       "      <td>La_liga</td>\n",
       "      <td>2014</td>\n",
       "      <td>3</td>\n",
       "      <td>Atletico Madrid</td>\n",
       "      <td>38</td>\n",
       "      <td>23</td>\n",
       "      <td>9</td>\n",
       "      <td>6</td>\n",
       "      <td>67</td>\n",
       "      <td>29</td>\n",
       "      <td>...</td>\n",
       "      <td>29.069107</td>\n",
       "      <td>0.069107</td>\n",
       "      <td>26.839271</td>\n",
       "      <td>25.748737</td>\n",
       "      <td>8.982028</td>\n",
       "      <td>9.237091</td>\n",
       "      <td>197</td>\n",
       "      <td>123</td>\n",
       "      <td>73.1353</td>\n",
       "      <td>-4.8647</td>\n",
       "    </tr>\n",
       "    <tr>\n",
       "      <th>3</th>\n",
       "      <td>La_liga</td>\n",
       "      <td>2014</td>\n",
       "      <td>4</td>\n",
       "      <td>Valencia</td>\n",
       "      <td>38</td>\n",
       "      <td>22</td>\n",
       "      <td>11</td>\n",
       "      <td>5</td>\n",
       "      <td>70</td>\n",
       "      <td>32</td>\n",
       "      <td>...</td>\n",
       "      <td>39.392572</td>\n",
       "      <td>7.392572</td>\n",
       "      <td>33.446477</td>\n",
       "      <td>16.257501</td>\n",
       "      <td>8.709827</td>\n",
       "      <td>7.870225</td>\n",
       "      <td>203</td>\n",
       "      <td>172</td>\n",
       "      <td>63.7068</td>\n",
       "      <td>-13.2932</td>\n",
       "    </tr>\n",
       "    <tr>\n",
       "      <th>4</th>\n",
       "      <td>La_liga</td>\n",
       "      <td>2014</td>\n",
       "      <td>5</td>\n",
       "      <td>Sevilla</td>\n",
       "      <td>38</td>\n",
       "      <td>23</td>\n",
       "      <td>7</td>\n",
       "      <td>8</td>\n",
       "      <td>71</td>\n",
       "      <td>45</td>\n",
       "      <td>...</td>\n",
       "      <td>47.862742</td>\n",
       "      <td>2.862742</td>\n",
       "      <td>41.916529</td>\n",
       "      <td>20.178070</td>\n",
       "      <td>8.276148</td>\n",
       "      <td>9.477805</td>\n",
       "      <td>305</td>\n",
       "      <td>168</td>\n",
       "      <td>67.3867</td>\n",
       "      <td>-8.6133</td>\n",
       "    </tr>\n",
       "    <tr>\n",
       "      <th>5</th>\n",
       "      <td>La_liga</td>\n",
       "      <td>2014</td>\n",
       "      <td>6</td>\n",
       "      <td>Villarreal</td>\n",
       "      <td>38</td>\n",
       "      <td>16</td>\n",
       "      <td>12</td>\n",
       "      <td>10</td>\n",
       "      <td>48</td>\n",
       "      <td>37</td>\n",
       "      <td>...</td>\n",
       "      <td>40.701813</td>\n",
       "      <td>3.701813</td>\n",
       "      <td>38.471977</td>\n",
       "      <td>16.809461</td>\n",
       "      <td>10.072085</td>\n",
       "      <td>8.679660</td>\n",
       "      <td>242</td>\n",
       "      <td>171</td>\n",
       "      <td>62.7363</td>\n",
       "      <td>2.7363</td>\n",
       "    </tr>\n",
       "    <tr>\n",
       "      <th>6</th>\n",
       "      <td>La_liga</td>\n",
       "      <td>2014</td>\n",
       "      <td>7</td>\n",
       "      <td>Athletic Club</td>\n",
       "      <td>38</td>\n",
       "      <td>15</td>\n",
       "      <td>10</td>\n",
       "      <td>13</td>\n",
       "      <td>42</td>\n",
       "      <td>41</td>\n",
       "      <td>...</td>\n",
       "      <td>44.106707</td>\n",
       "      <td>3.106707</td>\n",
       "      <td>41.737161</td>\n",
       "      <td>0.088990</td>\n",
       "      <td>7.462406</td>\n",
       "      <td>9.403965</td>\n",
       "      <td>183</td>\n",
       "      <td>171</td>\n",
       "      <td>53.3585</td>\n",
       "      <td>-1.6415</td>\n",
       "    </tr>\n",
       "    <tr>\n",
       "      <th>7</th>\n",
       "      <td>La_liga</td>\n",
       "      <td>2014</td>\n",
       "      <td>8</td>\n",
       "      <td>Celta Vigo</td>\n",
       "      <td>38</td>\n",
       "      <td>13</td>\n",
       "      <td>12</td>\n",
       "      <td>13</td>\n",
       "      <td>47</td>\n",
       "      <td>44</td>\n",
       "      <td>...</td>\n",
       "      <td>51.777138</td>\n",
       "      <td>7.777138</td>\n",
       "      <td>46.574205</td>\n",
       "      <td>7.853459</td>\n",
       "      <td>6.056173</td>\n",
       "      <td>10.882769</td>\n",
       "      <td>287</td>\n",
       "      <td>207</td>\n",
       "      <td>55.0488</td>\n",
       "      <td>4.0488</td>\n",
       "    </tr>\n",
       "    <tr>\n",
       "      <th>8</th>\n",
       "      <td>La_liga</td>\n",
       "      <td>2014</td>\n",
       "      <td>9</td>\n",
       "      <td>Malaga</td>\n",
       "      <td>38</td>\n",
       "      <td>14</td>\n",
       "      <td>8</td>\n",
       "      <td>16</td>\n",
       "      <td>42</td>\n",
       "      <td>48</td>\n",
       "      <td>...</td>\n",
       "      <td>54.130818</td>\n",
       "      <td>6.130818</td>\n",
       "      <td>49.515437</td>\n",
       "      <td>-8.637099</td>\n",
       "      <td>7.792069</td>\n",
       "      <td>7.019068</td>\n",
       "      <td>184</td>\n",
       "      <td>184</td>\n",
       "      <td>48.5128</td>\n",
       "      <td>-1.4872</td>\n",
       "    </tr>\n",
       "    <tr>\n",
       "      <th>9</th>\n",
       "      <td>La_liga</td>\n",
       "      <td>2014</td>\n",
       "      <td>10</td>\n",
       "      <td>Rayo Vallecano</td>\n",
       "      <td>38</td>\n",
       "      <td>15</td>\n",
       "      <td>4</td>\n",
       "      <td>19</td>\n",
       "      <td>46</td>\n",
       "      <td>68</td>\n",
       "      <td>...</td>\n",
       "      <td>70.433460</td>\n",
       "      <td>2.433460</td>\n",
       "      <td>65.973800</td>\n",
       "      <td>-20.412932</td>\n",
       "      <td>6.157978</td>\n",
       "      <td>9.735109</td>\n",
       "      <td>147</td>\n",
       "      <td>219</td>\n",
       "      <td>43.5455</td>\n",
       "      <td>-5.4545</td>\n",
       "    </tr>\n",
       "    <tr>\n",
       "      <th>10</th>\n",
       "      <td>La_liga</td>\n",
       "      <td>2014</td>\n",
       "      <td>11</td>\n",
       "      <td>Espanyol</td>\n",
       "      <td>38</td>\n",
       "      <td>13</td>\n",
       "      <td>10</td>\n",
       "      <td>15</td>\n",
       "      <td>47</td>\n",
       "      <td>51</td>\n",
       "      <td>...</td>\n",
       "      <td>48.303916</td>\n",
       "      <td>-2.696084</td>\n",
       "      <td>47.560642</td>\n",
       "      <td>-6.554427</td>\n",
       "      <td>9.381754</td>\n",
       "      <td>7.158217</td>\n",
       "      <td>173</td>\n",
       "      <td>205</td>\n",
       "      <td>50.3850</td>\n",
       "      <td>1.3850</td>\n",
       "    </tr>\n",
       "    <tr>\n",
       "      <th>11</th>\n",
       "      <td>La_liga</td>\n",
       "      <td>2014</td>\n",
       "      <td>12</td>\n",
       "      <td>Real Sociedad</td>\n",
       "      <td>38</td>\n",
       "      <td>11</td>\n",
       "      <td>13</td>\n",
       "      <td>14</td>\n",
       "      <td>44</td>\n",
       "      <td>51</td>\n",
       "      <td>...</td>\n",
       "      <td>51.158118</td>\n",
       "      <td>0.158118</td>\n",
       "      <td>46.536026</td>\n",
       "      <td>-15.280658</td>\n",
       "      <td>8.614235</td>\n",
       "      <td>8.829567</td>\n",
       "      <td>146</td>\n",
       "      <td>168</td>\n",
       "      <td>38.7818</td>\n",
       "      <td>-7.2182</td>\n",
       "    </tr>\n",
       "    <tr>\n",
       "      <th>12</th>\n",
       "      <td>La_liga</td>\n",
       "      <td>2014</td>\n",
       "      <td>13</td>\n",
       "      <td>Elche</td>\n",
       "      <td>38</td>\n",
       "      <td>11</td>\n",
       "      <td>8</td>\n",
       "      <td>19</td>\n",
       "      <td>35</td>\n",
       "      <td>62</td>\n",
       "      <td>...</td>\n",
       "      <td>58.071770</td>\n",
       "      <td>-3.928230</td>\n",
       "      <td>51.382272</td>\n",
       "      <td>-17.116632</td>\n",
       "      <td>9.517572</td>\n",
       "      <td>8.623287</td>\n",
       "      <td>107</td>\n",
       "      <td>216</td>\n",
       "      <td>40.6718</td>\n",
       "      <td>-0.3282</td>\n",
       "    </tr>\n",
       "    <tr>\n",
       "      <th>13</th>\n",
       "      <td>La_liga</td>\n",
       "      <td>2014</td>\n",
       "      <td>14</td>\n",
       "      <td>Getafe</td>\n",
       "      <td>38</td>\n",
       "      <td>10</td>\n",
       "      <td>7</td>\n",
       "      <td>21</td>\n",
       "      <td>33</td>\n",
       "      <td>64</td>\n",
       "      <td>...</td>\n",
       "      <td>53.673382</td>\n",
       "      <td>-10.326618</td>\n",
       "      <td>47.728197</td>\n",
       "      <td>-15.246177</td>\n",
       "      <td>10.145486</td>\n",
       "      <td>7.235660</td>\n",
       "      <td>114</td>\n",
       "      <td>221</td>\n",
       "      <td>40.1031</td>\n",
       "      <td>3.1031</td>\n",
       "    </tr>\n",
       "    <tr>\n",
       "      <th>14</th>\n",
       "      <td>La_liga</td>\n",
       "      <td>2014</td>\n",
       "      <td>15</td>\n",
       "      <td>Levante</td>\n",
       "      <td>38</td>\n",
       "      <td>9</td>\n",
       "      <td>10</td>\n",
       "      <td>19</td>\n",
       "      <td>34</td>\n",
       "      <td>67</td>\n",
       "      <td>...</td>\n",
       "      <td>60.270317</td>\n",
       "      <td>-6.729683</td>\n",
       "      <td>54.181697</td>\n",
       "      <td>-21.853093</td>\n",
       "      <td>12.379268</td>\n",
       "      <td>7.501471</td>\n",
       "      <td>97</td>\n",
       "      <td>224</td>\n",
       "      <td>37.6046</td>\n",
       "      <td>0.6046</td>\n",
       "    </tr>\n",
       "    <tr>\n",
       "      <th>15</th>\n",
       "      <td>La_liga</td>\n",
       "      <td>2014</td>\n",
       "      <td>16</td>\n",
       "      <td>Deportivo La Coruna</td>\n",
       "      <td>38</td>\n",
       "      <td>7</td>\n",
       "      <td>14</td>\n",
       "      <td>17</td>\n",
       "      <td>35</td>\n",
       "      <td>60</td>\n",
       "      <td>...</td>\n",
       "      <td>50.979304</td>\n",
       "      <td>-9.020696</td>\n",
       "      <td>46.519761</td>\n",
       "      <td>-14.013874</td>\n",
       "      <td>9.872520</td>\n",
       "      <td>7.921498</td>\n",
       "      <td>133</td>\n",
       "      <td>188</td>\n",
       "      <td>43.5249</td>\n",
       "      <td>8.5249</td>\n",
       "    </tr>\n",
       "    <tr>\n",
       "      <th>16</th>\n",
       "      <td>La_liga</td>\n",
       "      <td>2014</td>\n",
       "      <td>17</td>\n",
       "      <td>Granada</td>\n",
       "      <td>38</td>\n",
       "      <td>7</td>\n",
       "      <td>14</td>\n",
       "      <td>17</td>\n",
       "      <td>29</td>\n",
       "      <td>64</td>\n",
       "      <td>...</td>\n",
       "      <td>54.283784</td>\n",
       "      <td>-9.716216</td>\n",
       "      <td>51.310678</td>\n",
       "      <td>-18.383080</td>\n",
       "      <td>8.924796</td>\n",
       "      <td>7.551742</td>\n",
       "      <td>117</td>\n",
       "      <td>206</td>\n",
       "      <td>45.7345</td>\n",
       "      <td>10.7345</td>\n",
       "    </tr>\n",
       "    <tr>\n",
       "      <th>17</th>\n",
       "      <td>La_liga</td>\n",
       "      <td>2014</td>\n",
       "      <td>18</td>\n",
       "      <td>Eibar</td>\n",
       "      <td>38</td>\n",
       "      <td>9</td>\n",
       "      <td>8</td>\n",
       "      <td>21</td>\n",
       "      <td>34</td>\n",
       "      <td>55</td>\n",
       "      <td>...</td>\n",
       "      <td>53.717962</td>\n",
       "      <td>-1.282038</td>\n",
       "      <td>50.001575</td>\n",
       "      <td>-21.928018</td>\n",
       "      <td>9.636161</td>\n",
       "      <td>8.056608</td>\n",
       "      <td>106</td>\n",
       "      <td>225</td>\n",
       "      <td>35.6537</td>\n",
       "      <td>0.6537</td>\n",
       "    </tr>\n",
       "    <tr>\n",
       "      <th>18</th>\n",
       "      <td>La_liga</td>\n",
       "      <td>2014</td>\n",
       "      <td>19</td>\n",
       "      <td>Almeria</td>\n",
       "      <td>38</td>\n",
       "      <td>8</td>\n",
       "      <td>8</td>\n",
       "      <td>22</td>\n",
       "      <td>35</td>\n",
       "      <td>64</td>\n",
       "      <td>...</td>\n",
       "      <td>58.866805</td>\n",
       "      <td>-5.133195</td>\n",
       "      <td>57.380250</td>\n",
       "      <td>-23.169985</td>\n",
       "      <td>8.761425</td>\n",
       "      <td>6.230164</td>\n",
       "      <td>136</td>\n",
       "      <td>220</td>\n",
       "      <td>39.3255</td>\n",
       "      <td>7.3255</td>\n",
       "    </tr>\n",
       "    <tr>\n",
       "      <th>19</th>\n",
       "      <td>La_liga</td>\n",
       "      <td>2014</td>\n",
       "      <td>20</td>\n",
       "      <td>Cordoba</td>\n",
       "      <td>38</td>\n",
       "      <td>3</td>\n",
       "      <td>11</td>\n",
       "      <td>24</td>\n",
       "      <td>22</td>\n",
       "      <td>68</td>\n",
       "      <td>...</td>\n",
       "      <td>57.339776</td>\n",
       "      <td>-10.660224</td>\n",
       "      <td>52.137326</td>\n",
       "      <td>-24.602640</td>\n",
       "      <td>11.606826</td>\n",
       "      <td>7.530367</td>\n",
       "      <td>91</td>\n",
       "      <td>253</td>\n",
       "      <td>36.2912</td>\n",
       "      <td>16.2912</td>\n",
       "    </tr>\n",
       "  </tbody>\n",
       "</table>\n",
       "<p>20 rows × 24 columns</p>\n",
       "</div>"
      ],
      "text/plain": [
       "   Unnamed: 0  Unnamed: 1  position                 team  matches  wins  \\\n",
       "0     La_liga        2014         1            Barcelona       38    30   \n",
       "1     La_liga        2014         2          Real Madrid       38    30   \n",
       "2     La_liga        2014         3      Atletico Madrid       38    23   \n",
       "3     La_liga        2014         4             Valencia       38    22   \n",
       "4     La_liga        2014         5              Sevilla       38    23   \n",
       "5     La_liga        2014         6           Villarreal       38    16   \n",
       "6     La_liga        2014         7        Athletic Club       38    15   \n",
       "7     La_liga        2014         8           Celta Vigo       38    13   \n",
       "8     La_liga        2014         9               Malaga       38    14   \n",
       "9     La_liga        2014        10       Rayo Vallecano       38    15   \n",
       "10    La_liga        2014        11             Espanyol       38    13   \n",
       "11    La_liga        2014        12        Real Sociedad       38    11   \n",
       "12    La_liga        2014        13                Elche       38    11   \n",
       "13    La_liga        2014        14               Getafe       38    10   \n",
       "14    La_liga        2014        15              Levante       38     9   \n",
       "15    La_liga        2014        16  Deportivo La Coruna       38     7   \n",
       "16    La_liga        2014        17              Granada       38     7   \n",
       "17    La_liga        2014        18                Eibar       38     9   \n",
       "18    La_liga        2014        19              Almeria       38     8   \n",
       "19    La_liga        2014        20              Cordoba       38     3   \n",
       "\n",
       "    draws  loses  scored  missed  ...        xGA   xGA_diff      npxGA  \\\n",
       "0       4      4     110      21  ...  28.444293   7.444293  24.727907   \n",
       "1       2      6     118      38  ...  42.607198   4.607198  38.890805   \n",
       "2       9      6      67      29  ...  29.069107   0.069107  26.839271   \n",
       "3      11      5      70      32  ...  39.392572   7.392572  33.446477   \n",
       "4       7      8      71      45  ...  47.862742   2.862742  41.916529   \n",
       "5      12     10      48      37  ...  40.701813   3.701813  38.471977   \n",
       "6      10     13      42      41  ...  44.106707   3.106707  41.737161   \n",
       "7      12     13      47      44  ...  51.777138   7.777138  46.574205   \n",
       "8       8     16      42      48  ...  54.130818   6.130818  49.515437   \n",
       "9       4     19      46      68  ...  70.433460   2.433460  65.973800   \n",
       "10     10     15      47      51  ...  48.303916  -2.696084  47.560642   \n",
       "11     13     14      44      51  ...  51.158118   0.158118  46.536026   \n",
       "12      8     19      35      62  ...  58.071770  -3.928230  51.382272   \n",
       "13      7     21      33      64  ...  53.673382 -10.326618  47.728197   \n",
       "14     10     19      34      67  ...  60.270317  -6.729683  54.181697   \n",
       "15     14     17      35      60  ...  50.979304  -9.020696  46.519761   \n",
       "16     14     17      29      64  ...  54.283784  -9.716216  51.310678   \n",
       "17      8     21      34      55  ...  53.717962  -1.282038  50.001575   \n",
       "18      8     22      35      64  ...  58.866805  -5.133195  57.380250   \n",
       "19     11     24      22      68  ...  57.339776 -10.660224  52.137326   \n",
       "\n",
       "        npxGD  ppda_coef  oppda_coef  deep  deep_allowed     xpts  xpts_diff  \n",
       "0   73.049305   5.683535   16.367593   489           114  94.0813     0.0813  \n",
       "1   47.213090  10.209085   12.929510   351           153  81.7489   -10.2511  \n",
       "2   25.748737   8.982028    9.237091   197           123  73.1353    -4.8647  \n",
       "3   16.257501   8.709827    7.870225   203           172  63.7068   -13.2932  \n",
       "4   20.178070   8.276148    9.477805   305           168  67.3867    -8.6133  \n",
       "5   16.809461  10.072085    8.679660   242           171  62.7363     2.7363  \n",
       "6    0.088990   7.462406    9.403965   183           171  53.3585    -1.6415  \n",
       "7    7.853459   6.056173   10.882769   287           207  55.0488     4.0488  \n",
       "8   -8.637099   7.792069    7.019068   184           184  48.5128    -1.4872  \n",
       "9  -20.412932   6.157978    9.735109   147           219  43.5455    -5.4545  \n",
       "10  -6.554427   9.381754    7.158217   173           205  50.3850     1.3850  \n",
       "11 -15.280658   8.614235    8.829567   146           168  38.7818    -7.2182  \n",
       "12 -17.116632   9.517572    8.623287   107           216  40.6718    -0.3282  \n",
       "13 -15.246177  10.145486    7.235660   114           221  40.1031     3.1031  \n",
       "14 -21.853093  12.379268    7.501471    97           224  37.6046     0.6046  \n",
       "15 -14.013874   9.872520    7.921498   133           188  43.5249     8.5249  \n",
       "16 -18.383080   8.924796    7.551742   117           206  45.7345    10.7345  \n",
       "17 -21.928018   9.636161    8.056608   106           225  35.6537     0.6537  \n",
       "18 -23.169985   8.761425    6.230164   136           220  39.3255     7.3255  \n",
       "19 -24.602640  11.606826    7.530367    91           253  36.2912    16.2912  \n",
       "\n",
       "[20 rows x 24 columns]"
      ]
     },
     "execution_count": 6,
     "metadata": {},
     "output_type": "execute_result"
    }
   ],
   "source": [
    "football.head(20)"
   ]
  },
  {
   "cell_type": "code",
   "execution_count": 7,
   "metadata": {},
   "outputs": [],
   "source": [
    "# creating a dictionary in python"
   ]
  },
  {
   "cell_type": "code",
   "execution_count": 8,
   "metadata": {},
   "outputs": [],
   "source": [
    "second_semester_courses = {\n",
    "    'id': [212, 213, 214, 215, 216],\n",
    "    'name_of_course': ['Geometry', 'Trigonometry', 'Fundamentals of Computer Programming', 'Philosophy', 'Basis'],\n",
    "    'name_of_lectures': ['Miss Diana', 'Mr. Kwabi Emmanuel', 'Mr. Hatsu', 'Mr. Archimedes Sena Senadju', 'Mr. Nelson']\n",
    "}"
   ]
  },
  {
   "cell_type": "code",
   "execution_count": 9,
   "metadata": {},
   "outputs": [],
   "source": [
    "\n",
    "unis = pd.DataFrame(second_semester_courses)"
   ]
  },
  {
   "cell_type": "code",
   "execution_count": 10,
   "metadata": {},
   "outputs": [
    {
     "ename": "NameError",
     "evalue": "name 'uni' is not defined",
     "output_type": "error",
     "traceback": [
      "\u001b[1;31m---------------------------------------------------------------------------\u001b[0m",
      "\u001b[1;31mNameError\u001b[0m                                 Traceback (most recent call last)",
      "\u001b[1;32m<ipython-input-10-630fe33c79c5>\u001b[0m in \u001b[0;36m<module>\u001b[1;34m\u001b[0m\n\u001b[1;32m----> 1\u001b[1;33m \u001b[0muni\u001b[0m\u001b[1;33m.\u001b[0m\u001b[0mshape\u001b[0m\u001b[1;33m\u001b[0m\u001b[1;33m\u001b[0m\u001b[0m\n\u001b[0m",
      "\u001b[1;31mNameError\u001b[0m: name 'uni' is not defined"
     ]
    }
   ],
   "source": [
    "uni.shape"
   ]
  },
  {
   "cell_type": "code",
   "execution_count": null,
   "metadata": {},
   "outputs": [],
   "source": [
    "uni"
   ]
  },
  {
   "cell_type": "code",
   "execution_count": null,
   "metadata": {},
   "outputs": [],
   "source": [
    "uni['name_of_course']"
   ]
  },
  {
   "cell_type": "code",
   "execution_count": null,
   "metadata": {},
   "outputs": [],
   "source": [
    "uni['id']"
   ]
  },
  {
   "cell_type": "code",
   "execution_count": null,
   "metadata": {},
   "outputs": [],
   "source": [
    " football['scored']"
   ]
  },
  {
   "cell_type": "code",
   "execution_count": null,
   "metadata": {},
   "outputs": [],
   "source": [
    "football[['scored', 'team', 'position']]"
   ]
  },
  {
   "cell_type": "code",
   "execution_count": null,
   "metadata": {},
   "outputs": [],
   "source": [
    "d = football[['position', 'team', 'wins', 'scored']]"
   ]
  },
  {
   "cell_type": "code",
   "execution_count": null,
   "metadata": {},
   "outputs": [],
   "source": [
    "d.head(20)"
   ]
  },
  {
   "cell_type": "code",
   "execution_count": null,
   "metadata": {},
   "outputs": [],
   "source": [
    "#iloc is integer location, it is used to locate the position of data"
   ]
  },
  {
   "cell_type": "code",
   "execution_count": null,
   "metadata": {},
   "outputs": [],
   "source": [
    "uni.iloc[0] # single row"
   ]
  },
  {
   "cell_type": "code",
   "execution_count": null,
   "metadata": {},
   "outputs": [],
   "source": [
    " uni.iloc[0][2] # data out of index 0"
   ]
  },
  {
   "cell_type": "code",
   "execution_count": null,
   "metadata": {
    "scrolled": true
   },
   "outputs": [],
   "source": [
    "uni.iloc[[0, 1]]"
   ]
  },
  {
   "cell_type": "code",
   "execution_count": null,
   "metadata": {},
   "outputs": [],
   "source": [
    "football.iloc[[20, 28, 34, 45, 200], [0, 1, 2, 3, 4, 5]]"
   ]
  },
  {
   "cell_type": "code",
   "execution_count": null,
   "metadata": {},
   "outputs": [],
   "source": [
    "football.iloc[[0:100]"
   ]
  },
  {
   "cell_type": "code",
   "execution_count": null,
   "metadata": {},
   "outputs": [],
   "source": [
    "football.iloc[[10], [23]]"
   ]
  },
  {
   "cell_type": "markdown",
   "metadata": {},
   "source": [
    "### "
   ]
  },
  {
   "cell_type": "code",
   "execution_count": null,
   "metadata": {},
   "outputs": [],
   "source": [
    "football.columns"
   ]
  },
  {
   "cell_type": "code",
   "execution_count": null,
   "metadata": {},
   "outputs": [],
   "source": [
    "uni.loc[0:2]"
   ]
  },
  {
   "cell_type": "code",
   "execution_count": null,
   "metadata": {},
   "outputs": [],
   "source": [
    "uni.loc[[0], ['name_of_lectures']]"
   ]
  },
  {
   "cell_type": "code",
   "execution_count": null,
   "metadata": {},
   "outputs": [],
   "source": [
    "t = uni['name_of_lectures'] == 'Miss Diana'"
   ]
  },
  {
   "cell_type": "code",
   "execution_count": null,
   "metadata": {},
   "outputs": [],
   "source": [
    "t"
   ]
  },
  {
   "cell_type": "code",
   "execution_count": null,
   "metadata": {},
   "outputs": [],
   "source": [
    "football.loc[1:20, 'scored']"
   ]
  },
  {
   "cell_type": "code",
   "execution_count": null,
   "metadata": {},
   "outputs": [],
   "source": [
    "type(football['scored'])"
   ]
  },
  {
   "cell_type": "code",
   "execution_count": null,
   "metadata": {},
   "outputs": [],
   "source": [
    "uni"
   ]
  },
  {
   "cell_type": "code",
   "execution_count": null,
   "metadata": {},
   "outputs": [],
   "source": [
    " uni['name_of_course'].value_counts()"
   ]
  },
  {
   "cell_type": "code",
   "execution_count": null,
   "metadata": {},
   "outputs": [],
   "source": [
    "football.index"
   ]
  },
  {
   "cell_type": "code",
   "execution_count": null,
   "metadata": {},
   "outputs": [],
   "source": [
    "football"
   ]
  },
  {
   "cell_type": "code",
   "execution_count": null,
   "metadata": {},
   "outputs": [],
   "source": [
    "football.reset_index(inplace=True)"
   ]
  },
  {
   "cell_type": "code",
   "execution_count": null,
   "metadata": {},
   "outputs": [],
   "source": [
    "football"
   ]
  },
  {
   "cell_type": "code",
   "execution_count": null,
   "metadata": {},
   "outputs": [],
   "source": [
    "football['npxGD']"
   ]
  },
  {
   "cell_type": "code",
   "execution_count": null,
   "metadata": {},
   "outputs": [],
   "source": [
    "football.loc[19]"
   ]
  },
  {
   "cell_type": "code",
   "execution_count": null,
   "metadata": {},
   "outputs": [],
   "source": [
    "football.sort_index().head()"
   ]
  },
  {
   "cell_type": "code",
   "execution_count": null,
   "metadata": {},
   "outputs": [],
   "source": [
    "football['team'] == 'Real Madrid'"
   ]
  },
  {
   "cell_type": "code",
   "execution_count": null,
   "metadata": {},
   "outputs": [],
   "source": [
    "football.loc[[0, 1, 2, 3, 4, 5], ['team', 'position', 'scored', 'matches', 'wins', 'draws', 'loses']]"
   ]
  },
  {
   "cell_type": "code",
   "execution_count": null,
   "metadata": {},
   "outputs": [],
   "source": [
    "f"
   ]
  },
  {
   "cell_type": "code",
   "execution_count": null,
   "metadata": {},
   "outputs": [],
   "source": [
    "football.sort_index()"
   ]
  },
  {
   "cell_type": "code",
   "execution_count": null,
   "metadata": {},
   "outputs": [],
   "source": [
    "football.sort_index(ascending = False)"
   ]
  },
  {
   "cell_type": "code",
   "execution_count": null,
   "metadata": {},
   "outputs": [],
   "source": [
    "# FILTERING"
   ]
  },
  {
   "cell_type": "code",
   "execution_count": null,
   "metadata": {},
   "outputs": [],
   "source": [
    "# SEARCHING FOR A LAST NAME WHICH IS DOE"
   ]
  },
  {
   "cell_type": "code",
   "execution_count": null,
   "metadata": {},
   "outputs": [],
   "source": [
    "football['wins'] == 7"
   ]
  },
  {
   "cell_type": "code",
   "execution_count": null,
   "metadata": {},
   "outputs": [],
   "source": [
    "v = football['scored'] == 38\n",
    "v.value_counts()"
   ]
  },
  {
   "cell_type": "code",
   "execution_count": null,
   "metadata": {},
   "outputs": [],
   "source": [
    "second_semester_courses"
   ]
  },
  {
   "cell_type": "code",
   "execution_count": null,
   "metadata": {},
   "outputs": [],
   "source": [
    "uni"
   ]
  },
  {
   "cell_type": "code",
   "execution_count": null,
   "metadata": {},
   "outputs": [],
   "source": [
    "uni.columns = [i.upper() for i in uni.columns]"
   ]
  },
  {
   "cell_type": "code",
   "execution_count": null,
   "metadata": {},
   "outputs": [],
   "source": [
    "uni"
   ]
  },
  {
   "cell_type": "code",
   "execution_count": null,
   "metadata": {},
   "outputs": [],
   "source": [
    "uni"
   ]
  },
  {
   "cell_type": "code",
   "execution_count": null,
   "metadata": {},
   "outputs": [],
   "source": [
    "del uni[2]"
   ]
  },
  {
   "cell_type": "code",
   "execution_count": null,
   "metadata": {},
   "outputs": [],
   "source": [
    "uni"
   ]
  },
  {
   "cell_type": "code",
   "execution_count": null,
   "metadata": {},
   "outputs": [],
   "source": [
    "uni"
   ]
  },
  {
   "cell_type": "code",
   "execution_count": null,
   "metadata": {},
   "outputs": [],
   "source": [
    "unis"
   ]
  },
  {
   "cell_type": "code",
   "execution_count": null,
   "metadata": {},
   "outputs": [],
   "source": [
    "unis.columns = [i.upper() for i in unis.columns]"
   ]
  },
  {
   "cell_type": "code",
   "execution_count": null,
   "metadata": {},
   "outputs": [],
   "source": [
    "unis"
   ]
  },
  {
   "cell_type": "code",
   "execution_count": null,
   "metadata": {},
   "outputs": [],
   "source": [
    "# Renaming"
   ]
  },
  {
   "cell_type": "code",
   "execution_count": null,
   "metadata": {},
   "outputs": [],
   "source": [
    "unis.rename(columns ={'NAME_OF_LECTURES': 'NAME_OF_LECTURERS'}, inplace=True)"
   ]
  },
  {
   "cell_type": "code",
   "execution_count": null,
   "metadata": {},
   "outputs": [],
   "source": [
    "unis"
   ]
  },
  {
   "cell_type": "code",
   "execution_count": null,
   "metadata": {},
   "outputs": [],
   "source": [
    "unis.rename(columns={'NAME_OF_COURSE':'NAME_OF_COURSES'}, inplace=True)"
   ]
  },
  {
   "cell_type": "code",
   "execution_count": null,
   "metadata": {},
   "outputs": [],
   "source": [
    "unis"
   ]
  },
  {
   "cell_type": "code",
   "execution_count": null,
   "metadata": {},
   "outputs": [],
   "source": [
    "unis.index "
   ]
  },
  {
   "cell_type": "code",
   "execution_count": null,
   "metadata": {},
   "outputs": [],
   "source": [
    "unis.columns"
   ]
  },
  {
   "cell_type": "code",
   "execution_count": null,
   "metadata": {},
   "outputs": [],
   "source": [
    "# Updating data in rows"
   ]
  },
  {
   "cell_type": "code",
   "execution_count": null,
   "metadata": {},
   "outputs": [],
   "source": [
    "# How to update a single value"
   ]
  },
  {
   "cell_type": "code",
   "execution_count": null,
   "metadata": {},
   "outputs": [],
   "source": [
    "unis.loc[2]"
   ]
  },
  {
   "cell_type": "code",
   "execution_count": null,
   "metadata": {},
   "outputs": [],
   "source": [
    "unis.loc[2][0]"
   ]
  },
  {
   "cell_type": "code",
   "execution_count": null,
   "metadata": {},
   "outputs": [],
   "source": [
    "unis.loc[3]"
   ]
  },
  {
   "cell_type": "code",
   "execution_count": null,
   "metadata": {},
   "outputs": [],
   "source": [
    "unis.loc[3][2]"
   ]
  },
  {
   "cell_type": "code",
   "execution_count": null,
   "metadata": {
    "scrolled": true
   },
   "outputs": [],
   "source": [
    "unis.loc[3, 'NAME_OF_LECTURERS'] = 'Mr. Jerry John Akoto'"
   ]
  },
  {
   "cell_type": "code",
   "execution_count": null,
   "metadata": {},
   "outputs": [],
   "source": [
    "unis"
   ]
  },
  {
   "cell_type": "code",
   "execution_count": null,
   "metadata": {},
   "outputs": [],
   "source": [
    "unis.loc[2, 'NAME_OF_LECTURERS'] = 'Prof. Archimedes Sena Senadju'"
   ]
  },
  {
   "cell_type": "code",
   "execution_count": null,
   "metadata": {},
   "outputs": [],
   "source": [
    "unis"
   ]
  },
  {
   "cell_type": "code",
   "execution_count": null,
   "metadata": {},
   "outputs": [],
   "source": [
    "unis.loc[0, 'NAME_OF_COURSES'] = 'Algebra II'"
   ]
  },
  {
   "cell_type": "code",
   "execution_count": null,
   "metadata": {},
   "outputs": [],
   "source": [
    "unis"
   ]
  },
  {
   "cell_type": "code",
   "execution_count": null,
   "metadata": {},
   "outputs": [],
   "source": [
    "unis.loc[4, 'NAME_OF_LECTURERS']= 'Mr. Nelson Ayikpa'"
   ]
  },
  {
   "cell_type": "code",
   "execution_count": null,
   "metadata": {},
   "outputs": [],
   "source": [
    "unis"
   ]
  },
  {
   "cell_type": "code",
   "execution_count": null,
   "metadata": {},
   "outputs": [],
   "source": [
    "unis.loc[4, 'NAME_OF_COURSES'] = 'General Method of teaching'"
   ]
  },
  {
   "cell_type": "code",
   "execution_count": null,
   "metadata": {},
   "outputs": [],
   "source": [
    "unis"
   ]
  },
  {
   "cell_type": "code",
   "execution_count": null,
   "metadata": {},
   "outputs": [],
   "source": [
    "unis"
   ]
  },
  {
   "cell_type": "code",
   "execution_count": null,
   "metadata": {},
   "outputs": [],
   "source": [
    "# updating multiple rows"
   ]
  },
  {
   "cell_type": "code",
   "execution_count": null,
   "metadata": {},
   "outputs": [],
   "source": [
    "unis['NAME_OF_COURSES'].apply(len)"
   ]
  },
  {
   "cell_type": "code",
   "execution_count": null,
   "metadata": {},
   "outputs": [],
   "source": [
    "# Applying on dataframe\n",
    "unis.apply(len)"
   ]
  },
  {
   "cell_type": "code",
   "execution_count": null,
   "metadata": {},
   "outputs": [],
   "source": [
    "def update_email(NAME_OF_COURSES):\n",
    "    return NAME_OF_COURSES.upper()"
   ]
  },
  {
   "cell_type": "code",
   "execution_count": null,
   "metadata": {},
   "outputs": [],
   "source": [
    "unis['NAME_OF_COURSES'].apply(update_email)"
   ]
  },
  {
   "cell_type": "code",
   "execution_count": null,
   "metadata": {},
   "outputs": [],
   "source": [
    "unis"
   ]
  },
  {
   "cell_type": "code",
   "execution_count": null,
   "metadata": {},
   "outputs": [],
   "source": [
    "# Applying on series"
   ]
  },
  {
   "cell_type": "code",
   "execution_count": null,
   "metadata": {},
   "outputs": [],
   "source": [
    "unis['NAME_OF_COURSES'] = unis['NAME_OF_COURSES'].apply(update_email)"
   ]
  },
  {
   "cell_type": "code",
   "execution_count": null,
   "metadata": {},
   "outputs": [],
   "source": [
    "unis"
   ]
  },
  {
   "cell_type": "code",
   "execution_count": null,
   "metadata": {},
   "outputs": [],
   "source": [
    "unis['NAME_OF_LECTURERS'] = unis['NAME_OF_LECTURERS'].apply(update_email)"
   ]
  },
  {
   "cell_type": "code",
   "execution_count": null,
   "metadata": {},
   "outputs": [],
   "source": [
    "unis.apply(len)"
   ]
  },
  {
   "cell_type": "code",
   "execution_count": null,
   "metadata": {},
   "outputs": [],
   "source": [
    "unis"
   ]
  },
  {
   "cell_type": "code",
   "execution_count": null,
   "metadata": {},
   "outputs": [],
   "source": [
    "def updated(ID):\n",
    "    return ID + 1"
   ]
  },
  {
   "cell_type": "code",
   "execution_count": null,
   "metadata": {},
   "outputs": [],
   "source": [
    "unis['ID'] = unis['ID'].apply(updated)"
   ]
  },
  {
   "cell_type": "code",
   "execution_count": null,
   "metadata": {},
   "outputs": [],
   "source": [
    "unis"
   ]
  },
  {
   "cell_type": "code",
   "execution_count": null,
   "metadata": {},
   "outputs": [],
   "source": [
    "unis['NAME_OF_COURSES'] = unis['NAME_OF_COURSES'].apply(lambda x:x.lower())"
   ]
  },
  {
   "cell_type": "code",
   "execution_count": null,
   "metadata": {},
   "outputs": [],
   "source": [
    "unis[2, 'NAME_OF_COURSES'] = 'COMPUTER PROGRAMMING'"
   ]
  },
  {
   "cell_type": "code",
   "execution_count": null,
   "metadata": {},
   "outputs": [],
   "source": [
    "unis"
   ]
  },
  {
   "cell_type": "code",
   "execution_count": null,
   "metadata": {},
   "outputs": [],
   "source": [
    "del unis[2, 'NAME_OF_COURSES']"
   ]
  },
  {
   "cell_type": "code",
   "execution_count": null,
   "metadata": {},
   "outputs": [],
   "source": [
    "unis"
   ]
  },
  {
   "cell_type": "code",
   "execution_count": null,
   "metadata": {},
   "outputs": [],
   "source": [
    "unis['NAME_OF_COURSES'] = unis['NAME_OF_COURSES'].apply(update_email)"
   ]
  },
  {
   "cell_type": "code",
   "execution_count": null,
   "metadata": {},
   "outputs": [],
   "source": [
    "unis"
   ]
  },
  {
   "cell_type": "code",
   "execution_count": null,
   "metadata": {},
   "outputs": [],
   "source": [
    "unis.loc[[2],['NAME_OF_COURSES']] = 'PROGRAMMING'"
   ]
  },
  {
   "cell_type": "code",
   "execution_count": null,
   "metadata": {},
   "outputs": [],
   "source": [
    "unis"
   ]
  },
  {
   "cell_type": "code",
   "execution_count": null,
   "metadata": {},
   "outputs": [],
   "source": [
    "unis.loc[[4], ['NAME_OF_COURSES']] = 'METHOD OF TEACHING'"
   ]
  },
  {
   "cell_type": "code",
   "execution_count": null,
   "metadata": {},
   "outputs": [],
   "source": [
    "unis"
   ]
  },
  {
   "cell_type": "code",
   "execution_count": null,
   "metadata": {},
   "outputs": [],
   "source": [
    "# minimum\n",
    "unis.apply(pd.Series.min).head(2)"
   ]
  },
  {
   "cell_type": "code",
   "execution_count": null,
   "metadata": {},
   "outputs": [],
   "source": [
    "# Other way of writing that same code"
   ]
  },
  {
   "cell_type": "code",
   "execution_count": null,
   "metadata": {},
   "outputs": [],
   "source": [
    "unis.apply(lambda x:x.min())"
   ]
  },
  {
   "cell_type": "code",
   "execution_count": null,
   "metadata": {},
   "outputs": [],
   "source": [
    "# work on applymap, map, with examples"
   ]
  },
  {
   "cell_type": "code",
   "execution_count": null,
   "metadata": {},
   "outputs": [],
   "source": [
    "# v6, Add and remove rows and columns from dataframe"
   ]
  },
  {
   "cell_type": "code",
   "execution_count": null,
   "metadata": {},
   "outputs": [],
   "source": [
    "# Adding columns"
   ]
  },
  {
   "cell_type": "code",
   "execution_count": null,
   "metadata": {},
   "outputs": [],
   "source": [
    "unis['Handout'] = 'Yes'"
   ]
  },
  {
   "cell_type": "code",
   "execution_count": null,
   "metadata": {},
   "outputs": [],
   "source": [
    "unis"
   ]
  },
  {
   "cell_type": "code",
   "execution_count": null,
   "metadata": {},
   "outputs": [],
   "source": [
    "unis['Handout'].apply(update_email)"
   ]
  },
  {
   "cell_type": "code",
   "execution_count": null,
   "metadata": {},
   "outputs": [],
   "source": [
    "unis.columns"
   ]
  },
  {
   "cell_type": "code",
   "execution_count": null,
   "metadata": {},
   "outputs": [],
   "source": [
    "def hand(handout):\n",
    "    return handout.upper()"
   ]
  },
  {
   "cell_type": "code",
   "execution_count": null,
   "metadata": {},
   "outputs": [],
   "source": [
    "unis"
   ]
  },
  {
   "cell_type": "code",
   "execution_count": null,
   "metadata": {},
   "outputs": [],
   "source": [
    "unis['Handout']= unis['Handout'].apply(update_email)"
   ]
  },
  {
   "cell_type": "code",
   "execution_count": null,
   "metadata": {},
   "outputs": [],
   "source": [
    "unis"
   ]
  },
  {
   "cell_type": "code",
   "execution_count": 11,
   "metadata": {},
   "outputs": [
    {
     "data": {
      "text/html": [
       "<div>\n",
       "<style scoped>\n",
       "    .dataframe tbody tr th:only-of-type {\n",
       "        vertical-align: middle;\n",
       "    }\n",
       "\n",
       "    .dataframe tbody tr th {\n",
       "        vertical-align: top;\n",
       "    }\n",
       "\n",
       "    .dataframe thead th {\n",
       "        text-align: right;\n",
       "    }\n",
       "</style>\n",
       "<table border=\"1\" class=\"dataframe\">\n",
       "  <thead>\n",
       "    <tr style=\"text-align: right;\">\n",
       "      <th></th>\n",
       "      <th>id</th>\n",
       "      <th>name_of_course</th>\n",
       "      <th>name_of_lectures</th>\n",
       "    </tr>\n",
       "  </thead>\n",
       "  <tbody>\n",
       "    <tr>\n",
       "      <th>0</th>\n",
       "      <td>212</td>\n",
       "      <td>Geometry</td>\n",
       "      <td>Miss Diana</td>\n",
       "    </tr>\n",
       "    <tr>\n",
       "      <th>1</th>\n",
       "      <td>213</td>\n",
       "      <td>Trigonometry</td>\n",
       "      <td>Mr. Kwabi Emmanuel</td>\n",
       "    </tr>\n",
       "    <tr>\n",
       "      <th>2</th>\n",
       "      <td>214</td>\n",
       "      <td>Fundamentals of Computer Programming</td>\n",
       "      <td>Mr. Hatsu</td>\n",
       "    </tr>\n",
       "    <tr>\n",
       "      <th>3</th>\n",
       "      <td>215</td>\n",
       "      <td>Philosophy</td>\n",
       "      <td>Mr. Archimedes Sena Senadju</td>\n",
       "    </tr>\n",
       "    <tr>\n",
       "      <th>4</th>\n",
       "      <td>216</td>\n",
       "      <td>Basis</td>\n",
       "      <td>Mr. Nelson</td>\n",
       "    </tr>\n",
       "  </tbody>\n",
       "</table>\n",
       "</div>"
      ],
      "text/plain": [
       "    id                        name_of_course             name_of_lectures\n",
       "0  212                              Geometry                   Miss Diana\n",
       "1  213                          Trigonometry           Mr. Kwabi Emmanuel\n",
       "2  214  Fundamentals of Computer Programming                    Mr. Hatsu\n",
       "3  215                            Philosophy  Mr. Archimedes Sena Senadju\n",
       "4  216                                 Basis                   Mr. Nelson"
      ]
     },
     "execution_count": 11,
     "metadata": {},
     "output_type": "execute_result"
    }
   ],
   "source": [
    "unis"
   ]
  },
  {
   "cell_type": "code",
   "execution_count": 12,
   "metadata": {},
   "outputs": [],
   "source": [
    "unis['TIME'] = 6"
   ]
  },
  {
   "cell_type": "code",
   "execution_count": null,
   "metadata": {},
   "outputs": [],
   "source": []
  }
 ],
 "metadata": {
  "kernelspec": {
   "display_name": "Python 3",
   "language": "python",
   "name": "python3"
  },
  "language_info": {
   "codemirror_mode": {
    "name": "ipython",
    "version": 3
   },
   "file_extension": ".py",
   "mimetype": "text/x-python",
   "name": "python",
   "nbconvert_exporter": "python",
   "pygments_lexer": "ipython3",
   "version": "3.8.3"
  }
 },
 "nbformat": 4,
 "nbformat_minor": 4
}
